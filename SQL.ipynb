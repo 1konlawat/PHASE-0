{
  "nbformat": 4,
  "nbformat_minor": 0,
  "metadata": {
    "colab": {
      "provenance": [],
      "authorship_tag": "ABX9TyPScZbcBP6z2HcAfDqdo4EE",
      "include_colab_link": true
    },
    "kernelspec": {
      "name": "python3",
      "display_name": "Python 3"
    },
    "language_info": {
      "name": "python"
    }
  },
  "cells": [
    {
      "cell_type": "markdown",
      "metadata": {
        "id": "view-in-github",
        "colab_type": "text"
      },
      "source": [
        "<a href=\"https://colab.research.google.com/github/1konlawat/PHASE-0/blob/main/SQL.ipynb\" target=\"_parent\"><img src=\"https://colab.research.google.com/assets/colab-badge.svg\" alt=\"Open In Colab\"/></a>"
      ]
    },
    {
      "cell_type": "code",
      "source": [
        "import sqlite3\n",
        "\n",
        "# สร้าง DB ไฟล์ชื่อ test.db\n",
        "conn = sqlite3.connect('test.db')\n",
        "cursor = conn.cursor()\n",
        "\n",
        "# สร้างตาราง\n",
        "cursor.execute(\"\"\"\n",
        "CREATE TABLE IF NOT EXISTS employees (\n",
        "    id INTEGER PRIMARY KEY AUTOINCREMENT,\n",
        "    name TEXT,\n",
        "    department TEXT,\n",
        "    salary REAL\n",
        ")\n",
        "\"\"\")\n",
        "\n",
        "# ใส่ข้อมูลทดสอบ\n",
        "cursor.executemany(\"\"\"\n",
        "INSERT INTO employees (name, department, salary)\n",
        "VALUES (?, ?, ?)\n",
        "\"\"\", [\n",
        "    (\"Alice\",\"IT\",30000),\n",
        "    (\"Bob\",\"HR\",25000),\n",
        "    (\"Charlie\",\"IT\",35000)\n",
        "])\n",
        "\n",
        "conn.commit()\n",
        "cursor.execute(\"SELECT * FROM employees\")\n",
        "rows = cursor.fetchall()\n",
        "rows"
      ],
      "metadata": {
        "colab": {
          "base_uri": "https://localhost:8080/"
        },
        "id": "eLyYScqiOmv-",
        "outputId": "0241c4bb-5042-44c3-eaac-5afaa4d11a9d"
      },
      "execution_count": 8,
      "outputs": [
        {
          "output_type": "execute_result",
          "data": {
            "text/plain": [
              "[(1, 'Alice', 'IT', 30000.0),\n",
              " (2, 'Bob', 'HR', 25000.0),\n",
              " (3, 'Charlie', 'IT', 35000.0),\n",
              " (4, 'Alice', 'IT', 30000.0),\n",
              " (5, 'Bob', 'HR', 25000.0),\n",
              " (6, 'Charlie', 'IT', 35000.0),\n",
              " (7, 'Alice', 'IT', 30000.0),\n",
              " (8, 'Bob', 'HR', 25000.0),\n",
              " (9, 'Charlie', 'IT', 35000.0),\n",
              " (10, 'Alice', 'IT', 30000.0),\n",
              " (11, 'Bob', 'HR', 25000.0),\n",
              " (12, 'Charlie', 'IT', 35000.0),\n",
              " (13, 'Alice', 'IT', 30000.0),\n",
              " (14, 'Bob', 'HR', 25000.0),\n",
              " (15, 'Charlie', 'IT', 35000.0)]"
            ]
          },
          "metadata": {},
          "execution_count": 8
        }
      ]
    }
  ]
}